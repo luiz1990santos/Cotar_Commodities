{
 "cells": [
  {
   "cell_type": "code",
   "execution_count": 77,
   "id": "d81f55f7",
   "metadata": {},
   "outputs": [],
   "source": [
    "import pandas as pd\n",
    "from selenium import webdriver as wd"
   ]
  },
  {
   "cell_type": "code",
   "execution_count": 78,
   "id": "bc15c36c",
   "metadata": {},
   "outputs": [],
   "source": [
    "df =  pd.read_excel('commodities.xlsx')"
   ]
  },
  {
   "cell_type": "code",
   "execution_count": 79,
   "id": "ba4a5849",
   "metadata": {},
   "outputs": [
    {
     "data": {
      "text/html": [
       "<div>\n",
       "<style scoped>\n",
       "    .dataframe tbody tr th:only-of-type {\n",
       "        vertical-align: middle;\n",
       "    }\n",
       "\n",
       "    .dataframe tbody tr th {\n",
       "        vertical-align: top;\n",
       "    }\n",
       "\n",
       "    .dataframe thead th {\n",
       "        text-align: right;\n",
       "    }\n",
       "</style>\n",
       "<table border=\"1\" class=\"dataframe\">\n",
       "  <thead>\n",
       "    <tr style=\"text-align: right;\">\n",
       "      <th></th>\n",
       "      <th>Produto</th>\n",
       "      <th>Preço Ideal</th>\n",
       "      <th>Preço Atual</th>\n",
       "      <th>Comprar</th>\n",
       "    </tr>\n",
       "  </thead>\n",
       "  <tbody>\n",
       "    <tr>\n",
       "      <th>0</th>\n",
       "      <td>Milho</td>\n",
       "      <td>85.32</td>\n",
       "      <td>NaN</td>\n",
       "      <td>NaN</td>\n",
       "    </tr>\n",
       "    <tr>\n",
       "      <th>1</th>\n",
       "      <td>Soja</td>\n",
       "      <td>163.59</td>\n",
       "      <td>NaN</td>\n",
       "      <td>NaN</td>\n",
       "    </tr>\n",
       "    <tr>\n",
       "      <th>2</th>\n",
       "      <td>Boi</td>\n",
       "      <td>282.20</td>\n",
       "      <td>NaN</td>\n",
       "      <td>NaN</td>\n",
       "    </tr>\n",
       "    <tr>\n",
       "      <th>3</th>\n",
       "      <td>Petróleo</td>\n",
       "      <td>424.37</td>\n",
       "      <td>NaN</td>\n",
       "      <td>NaN</td>\n",
       "    </tr>\n",
       "    <tr>\n",
       "      <th>4</th>\n",
       "      <td>Algodão</td>\n",
       "      <td>497.76</td>\n",
       "      <td>NaN</td>\n",
       "      <td>NaN</td>\n",
       "    </tr>\n",
       "    <tr>\n",
       "      <th>5</th>\n",
       "      <td>Açúcar</td>\n",
       "      <td>136.23</td>\n",
       "      <td>NaN</td>\n",
       "      <td>NaN</td>\n",
       "    </tr>\n",
       "    <tr>\n",
       "      <th>6</th>\n",
       "      <td>Café</td>\n",
       "      <td>1092.87</td>\n",
       "      <td>NaN</td>\n",
       "      <td>NaN</td>\n",
       "    </tr>\n",
       "    <tr>\n",
       "      <th>7</th>\n",
       "      <td>Ouro</td>\n",
       "      <td>321.77</td>\n",
       "      <td>NaN</td>\n",
       "      <td>NaN</td>\n",
       "    </tr>\n",
       "    <tr>\n",
       "      <th>8</th>\n",
       "      <td>Trigo</td>\n",
       "      <td>1549.11</td>\n",
       "      <td>NaN</td>\n",
       "      <td>NaN</td>\n",
       "    </tr>\n",
       "    <tr>\n",
       "      <th>9</th>\n",
       "      <td>Tilápia</td>\n",
       "      <td>9.05</td>\n",
       "      <td>NaN</td>\n",
       "      <td>NaN</td>\n",
       "    </tr>\n",
       "  </tbody>\n",
       "</table>\n",
       "</div>"
      ],
      "text/plain": [
       "    Produto  Preço Ideal  Preço Atual  Comprar\n",
       "0     Milho        85.32          NaN      NaN\n",
       "1      Soja       163.59          NaN      NaN\n",
       "2       Boi       282.20          NaN      NaN\n",
       "3  Petróleo       424.37          NaN      NaN\n",
       "4   Algodão       497.76          NaN      NaN\n",
       "5    Açúcar       136.23          NaN      NaN\n",
       "6      Café      1092.87          NaN      NaN\n",
       "7      Ouro       321.77          NaN      NaN\n",
       "8     Trigo      1549.11          NaN      NaN\n",
       "9   Tilápia         9.05          NaN      NaN"
      ]
     },
     "metadata": {},
     "output_type": "display_data"
    }
   ],
   "source": [
    "display(df)"
   ]
  },
  {
   "cell_type": "code",
   "execution_count": 80,
   "id": "de81bea1",
   "metadata": {},
   "outputs": [
    {
     "name": "stdout",
     "output_type": "stream",
     "text": [
      "<class 'pandas.core.frame.DataFrame'>\n",
      "RangeIndex: 10 entries, 0 to 9\n",
      "Data columns (total 4 columns):\n",
      " #   Column       Non-Null Count  Dtype  \n",
      "---  ------       --------------  -----  \n",
      " 0   Produto      10 non-null     object \n",
      " 1   Preço Ideal  10 non-null     float64\n",
      " 2   Preço Atual  0 non-null      float64\n",
      " 3   Comprar      0 non-null      float64\n",
      "dtypes: float64(3), object(1)\n",
      "memory usage: 448.0+ bytes\n",
      "None\n"
     ]
    }
   ],
   "source": [
    "print(df.info())"
   ]
  },
  {
   "cell_type": "code",
   "execution_count": 81,
   "id": "effdf29b",
   "metadata": {},
   "outputs": [],
   "source": [
    "df['Comprar'] = df['Comprar'].astype(str)"
   ]
  },
  {
   "cell_type": "code",
   "execution_count": 82,
   "id": "ade4f2df",
   "metadata": {},
   "outputs": [
    {
     "name": "stdout",
     "output_type": "stream",
     "text": [
      "<class 'pandas.core.frame.DataFrame'>\n",
      "RangeIndex: 10 entries, 0 to 9\n",
      "Data columns (total 4 columns):\n",
      " #   Column       Non-Null Count  Dtype  \n",
      "---  ------       --------------  -----  \n",
      " 0   Produto      10 non-null     object \n",
      " 1   Preço Ideal  10 non-null     float64\n",
      " 2   Preço Atual  0 non-null      float64\n",
      " 3   Comprar      10 non-null     object \n",
      "dtypes: float64(2), object(2)\n",
      "memory usage: 448.0+ bytes\n",
      "None\n"
     ]
    }
   ],
   "source": [
    "print(df.info())"
   ]
  },
  {
   "cell_type": "code",
   "execution_count": 83,
   "id": "a879ec94",
   "metadata": {},
   "outputs": [
    {
     "name": "stdout",
     "output_type": "stream",
     "text": [
      "Milho hoje: R$: 85.37\n",
      "Soja hoje: R$: 162.12\n",
      "Boi hoje: R$: 278.90\n",
      "Petróleo hoje: R$: 383.15\n",
      "Algodão hoje: R$: 491.68\n",
      "Açúcar hoje: R$: 136.88\n",
      "Café hoje: R$: 1128.17\n",
      "Ouro hoje: R$: 331.52\n",
      "Trigo hoje: R$: 1549.08\n",
      "Tilápia hoje: R$: 9.05\n"
     ]
    }
   ],
   "source": [
    "for item in df.index:\n",
    "    produto = df.loc[item, 'Produto']\n",
    "    print(f'{produto} hoje: R$: ', end='')\n",
    "       \n",
    "    produto = produto.replace('ó','o').replace('ã','a').replace('ç','c').replace('ú','u').replace('é','e').replace('á','a')\n",
    "    #Função para substituir os caracteres especiais\n",
    "    \n",
    "    link = f'https://www.melhorcambio.com/{produto}-hoje'\n",
    "    web = wd.Chrome()\n",
    "    web.get(link)\n",
    "    valor  = web.find_element('xpath', '//*[@id=\"comercial\"]').get_attribute('value')\n",
    "    valor = valor.replace('.','').replace(',','.')\n",
    "    # formatando para o formato americano\n",
    "    print(valor)\n",
    "\n",
    "    df.loc[item,'Preço Atual'] = float(valor)\n",
    "    # Inserção dos valores na base de dados\n",
    "\n",
    "    "
   ]
  },
  {
   "cell_type": "code",
   "execution_count": 84,
   "id": "a6030b21",
   "metadata": {},
   "outputs": [
    {
     "data": {
      "text/html": [
       "<div>\n",
       "<style scoped>\n",
       "    .dataframe tbody tr th:only-of-type {\n",
       "        vertical-align: middle;\n",
       "    }\n",
       "\n",
       "    .dataframe tbody tr th {\n",
       "        vertical-align: top;\n",
       "    }\n",
       "\n",
       "    .dataframe thead th {\n",
       "        text-align: right;\n",
       "    }\n",
       "</style>\n",
       "<table border=\"1\" class=\"dataframe\">\n",
       "  <thead>\n",
       "    <tr style=\"text-align: right;\">\n",
       "      <th></th>\n",
       "      <th>Produto</th>\n",
       "      <th>Preço Ideal</th>\n",
       "      <th>Preço Atual</th>\n",
       "      <th>Comprar</th>\n",
       "    </tr>\n",
       "  </thead>\n",
       "  <tbody>\n",
       "    <tr>\n",
       "      <th>0</th>\n",
       "      <td>Milho</td>\n",
       "      <td>85.32</td>\n",
       "      <td>85.37</td>\n",
       "      <td>False</td>\n",
       "    </tr>\n",
       "    <tr>\n",
       "      <th>1</th>\n",
       "      <td>Soja</td>\n",
       "      <td>163.59</td>\n",
       "      <td>162.12</td>\n",
       "      <td>True</td>\n",
       "    </tr>\n",
       "    <tr>\n",
       "      <th>2</th>\n",
       "      <td>Boi</td>\n",
       "      <td>282.20</td>\n",
       "      <td>278.90</td>\n",
       "      <td>True</td>\n",
       "    </tr>\n",
       "    <tr>\n",
       "      <th>3</th>\n",
       "      <td>Petróleo</td>\n",
       "      <td>424.37</td>\n",
       "      <td>383.15</td>\n",
       "      <td>True</td>\n",
       "    </tr>\n",
       "    <tr>\n",
       "      <th>4</th>\n",
       "      <td>Algodão</td>\n",
       "      <td>497.76</td>\n",
       "      <td>491.68</td>\n",
       "      <td>True</td>\n",
       "    </tr>\n",
       "    <tr>\n",
       "      <th>5</th>\n",
       "      <td>Açúcar</td>\n",
       "      <td>136.23</td>\n",
       "      <td>136.88</td>\n",
       "      <td>False</td>\n",
       "    </tr>\n",
       "    <tr>\n",
       "      <th>6</th>\n",
       "      <td>Café</td>\n",
       "      <td>1092.87</td>\n",
       "      <td>1128.17</td>\n",
       "      <td>False</td>\n",
       "    </tr>\n",
       "    <tr>\n",
       "      <th>7</th>\n",
       "      <td>Ouro</td>\n",
       "      <td>321.77</td>\n",
       "      <td>331.52</td>\n",
       "      <td>False</td>\n",
       "    </tr>\n",
       "    <tr>\n",
       "      <th>8</th>\n",
       "      <td>Trigo</td>\n",
       "      <td>1549.11</td>\n",
       "      <td>1549.08</td>\n",
       "      <td>True</td>\n",
       "    </tr>\n",
       "    <tr>\n",
       "      <th>9</th>\n",
       "      <td>Tilápia</td>\n",
       "      <td>9.05</td>\n",
       "      <td>9.05</td>\n",
       "      <td>True</td>\n",
       "    </tr>\n",
       "  </tbody>\n",
       "</table>\n",
       "</div>"
      ],
      "text/plain": [
       "    Produto  Preço Ideal  Preço Atual  Comprar\n",
       "0     Milho        85.32        85.37    False\n",
       "1      Soja       163.59       162.12     True\n",
       "2       Boi       282.20       278.90     True\n",
       "3  Petróleo       424.37       383.15     True\n",
       "4   Algodão       497.76       491.68     True\n",
       "5    Açúcar       136.23       136.88    False\n",
       "6      Café      1092.87      1128.17    False\n",
       "7      Ouro       321.77       331.52    False\n",
       "8     Trigo      1549.11      1549.08     True\n",
       "9   Tilápia         9.05         9.05     True"
      ]
     },
     "metadata": {},
     "output_type": "display_data"
    }
   ],
   "source": [
    "df['Comprar'] = df['Preço Atual'] <= df['Preço Ideal']\n",
    "display(df)"
   ]
  },
  {
   "cell_type": "code",
   "execution_count": 85,
   "id": "950c8b94",
   "metadata": {},
   "outputs": [],
   "source": [
    "df.to_excel('commodities_atualizado.xlsx',index=False)"
   ]
  }
 ],
 "metadata": {
  "kernelspec": {
   "display_name": "Python 3 (ipykernel)",
   "language": "python",
   "name": "python3"
  },
  "language_info": {
   "codemirror_mode": {
    "name": "ipython",
    "version": 3
   },
   "file_extension": ".py",
   "mimetype": "text/x-python",
   "name": "python",
   "nbconvert_exporter": "python",
   "pygments_lexer": "ipython3",
   "version": "3.9.13"
  }
 },
 "nbformat": 4,
 "nbformat_minor": 5
}
